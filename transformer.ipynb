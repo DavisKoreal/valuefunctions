{
 "cells": [
  {
   "cell_type": "code",
   "execution_count": 13,
   "metadata": {},
   "outputs": [],
   "source": [
    "import numpy as np"
   ]
  },
  {
   "cell_type": "code",
   "execution_count": 12,
   "metadata": {},
   "outputs": [],
   "source": [
    "def log_actions(action: str):\n",
    "    with open(\"actions.log\", \"a\") as f:\n",
    "        f.write(action + \"\\n\")"
   ]
  },
  {
   "cell_type": "code",
   "execution_count": 14,
   "metadata": {},
   "outputs": [],
   "source": [
    "class Node:\n",
    "    def __init__(self):\n",
    "        #the vector that is stored in the node\n",
    "        self.data = np.random.randn(20)\n",
    "\n",
    "        #the weights governing how this node interacts with other nodes\n",
    "        self.wkey = np.random.randn(20, 20)\n",
    "        self.wquery = np.random.randn(20, 20)\n",
    "        self.wvalue = np.random.randn(20, 20)\n",
    "        log_actions(f\"Node created with data {self.data}\")\n",
    "\n",
    "    def key(self):\n",
    "        #what do I have\n",
    "        return self.wkey @ self.data\n",
    "    \n",
    "    def query(self):\n",
    "        #what am I lookin for\n",
    "        return self.wquery @ self.data\n",
    "    \n",
    "    def value(self):\n",
    "        #what do I reveal to others\n",
    "        return self.wvalue @ self.data"
   ]
  },
  {
   "cell_type": "code",
   "execution_count": 15,
   "metadata": {},
   "outputs": [],
   "source": [
    "class Graph:\n",
    "    def __init__(self):\n",
    "        #make 10 nodes\n",
    "        self.nodes = [Node() for _ in range(10)]\n",
    "\n",
    "        #make forty edges\n",
    "        randi = lambda: np.random.randint(len(self.nodes))\n",
    "        self.edges = [(randi(), randi()) for _ in range(40)]\n",
    "        \n",
    "        log_actions(f\"Graph created with {len(self.nodes)} nodes and {len(self.edges)} edges\")\n",
    "\n",
    "    def run(self):\n",
    "        updates = []\n",
    "        for i, node in enumerate(self.nodes):\n",
    "            #what is this node looking for?\n",
    "            nodequery = node.query()\n",
    "\n",
    "            #find all edges that are inputs to this node\n",
    "            inputs = [self.nodes[ifrom] for (ifrom, ito) in self.edges if ito == i]\n",
    "            if len(inputs) == 0:\n",
    "                continue #ignore this because there are no edges that are inputs to this node\n",
    "\n",
    "            #gather their keys, what they essentially hold \n",
    "            keys = [input.key() for input in inputs]\n",
    "            #calculate the compatibilities which is the dot product of the query and the key\n",
    "            compatibilities = [nodequery @ key for key in keys]\n",
    "            #normalize the compatibilities using softmax\n",
    "            compatibilities = np.exp(compatibilities) / np.sum(np.exp(compatibilities))\n",
    "            #gather appropriate values with a weighted sum\n",
    "            values = [input.value() for input in inputs]\n",
    "            update = sum([compatibility * value for compatibility, value in zip(compatibilities, values)])\n",
    "            updates.append(update)\n",
    "        for n, u in zip(self.nodes, updates):\n",
    "            n.data = n.data + u\n",
    "\n"
   ]
  },
  {
   "cell_type": "code",
   "execution_count": 16,
   "metadata": {},
   "outputs": [],
   "source": [
    "graph = Graph()\n",
    "graph.run()"
   ]
  },
  {
   "cell_type": "code",
   "execution_count": 17,
   "metadata": {},
   "outputs": [
    {
     "name": "stdout",
     "output_type": "stream",
     "text": [
      "[ 0.34980428 -8.55576913  9.0326494  -1.11787839  5.47553906 -5.92661741\n",
      " -0.04154986 -0.98786874  3.09899036  1.37551059 -5.24542785  0.18765526\n",
      "  8.81740656  6.21005609  4.73918136  9.82351925 -4.9224487  -1.7196883\n",
      "  0.57575593 -7.72066211]\n",
      "[ 5.87292921 -2.36133427 -3.1973296   0.18512551  7.61649843 -0.39547014\n",
      "  4.3745727  -0.14832297 -4.18022875  3.06017197  4.50714099  1.55945377\n",
      "  6.11558694 -5.12928901  4.27900318 -3.90178027  1.75024987  1.32372836\n",
      "  4.77864828  4.22777459]\n",
      "[-0.21966258 -3.57766546 -0.59257447 -2.77776391  0.54390535 -6.85424971\n",
      " -0.84302688 -8.16723918  6.85945154 -1.61620675 -0.12685021  0.02567127\n",
      "  2.93191602  2.03226816 -2.38240417  0.984404   -0.64782734 -2.02829612\n",
      "  2.38097766 -2.53934162]\n",
      "[-0.61025965 -7.51727355  6.23311601 -1.35134273  6.37955509 -6.99405095\n",
      "  1.90698605 -0.60711774  2.63339999  2.80530698 -2.23144661 -0.58365874\n",
      " 10.74699615  6.70597942  3.70135305  9.1405145  -2.17853582  0.5123895\n",
      "  1.98337525 -7.76351175]\n",
      "[-5.26324456 -9.58610751 -1.12994005 -3.28478897 -6.38424632  8.02287825\n",
      "  2.71721044 -1.38240281  4.70135465  1.79628658 -0.29417795 -3.28689436\n",
      " -5.17153944  2.81556483 -6.52073518  1.96821057 -2.45943176  0.64311788\n",
      "  0.11030674 -6.8776809 ]\n",
      "[ -4.02146919 -10.64423266   1.45411538  -2.66841143  -7.67983034\n",
      "   7.51192856   4.08561377   0.18484866   4.81487931   1.36909394\n",
      "   0.49897381  -3.89752041  -7.44119023   4.90428598  -8.11506434\n",
      "   3.48919818  -2.08678612  -2.91765296  -0.70710322  -4.25096752]\n",
      "[ 5.74511195 -1.74830988 -1.63743715 -2.0190834   6.05854519 -2.31458108\n",
      "  2.70763668 -1.28390687 -2.1851094   1.66799734  5.49939424  0.51862948\n",
      "  4.19736727 -4.5328422   5.50669525 -2.41206864  5.81748113  2.73098439\n",
      "  1.78938038  4.32689766]\n",
      "[ -5.13432649 -10.04527598  -2.66723033  -3.85364173  -5.68043406\n",
      "   7.48979573   5.21203338   0.27413447   4.62967319   1.63103876\n",
      "  -0.03853011  -4.6663933   -6.01723757   4.34820791  -7.77022228\n",
      "   4.03700443  -2.25686474  -0.95622113  -2.37534898  -6.03628262]\n",
      "[ 4.71808972e+00 -4.68568883e+00  4.57113312e-03 -4.11938729e+00\n",
      "  3.56628167e+00  2.13214498e+00 -2.13336099e+00 -4.05242037e+00\n",
      "  1.78729440e-01 -4.36197708e-01  5.15397770e+00 -8.38367484e-01\n",
      " -3.69070439e+00 -8.29121465e-01  4.36562444e+00  1.98397895e+00\n",
      "  6.53800417e-01 -7.22599366e+00  1.71942439e+00  3.69082129e+00]\n",
      "[ -5.38203475  -0.60262416   4.47827274   0.0792125    5.61709402\n",
      " -13.75102613  -0.11673663  -6.23420976  12.35882376   0.97997674\n",
      "   2.55268317   0.95329269   1.63732195   0.95701908  -1.59423314\n",
      "   2.84638038   6.88172981   0.07885046  -2.78418836   0.25566642]\n"
     ]
    }
   ],
   "source": [
    "for node in graph.nodes:\n",
    "    print(node.data)"
   ]
  }
 ],
 "metadata": {
  "kernelspec": {
   "display_name": "Python 3",
   "language": "python",
   "name": "python3"
  },
  "language_info": {
   "codemirror_mode": {
    "name": "ipython",
    "version": 3
   },
   "file_extension": ".py",
   "mimetype": "text/x-python",
   "name": "python",
   "nbconvert_exporter": "python",
   "pygments_lexer": "ipython3",
   "version": "3.10.12"
  }
 },
 "nbformat": 4,
 "nbformat_minor": 2
}
